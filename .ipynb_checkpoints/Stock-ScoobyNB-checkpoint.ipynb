{
 "cells": [
  {
   "cell_type": "code",
   "execution_count": 2,
   "metadata": {
    "collapsed": true
   },
   "outputs": [],
   "source": [
    "import os\n",
    "import pandas as pd\n",
    "import numpy as np\n",
    "import matplotlib.pyplot as plt"
   ]
  },
  {
   "cell_type": "code",
   "execution_count": null,
   "metadata": {
    "collapsed": true
   },
   "outputs": [],
   "source": [
    "#path = \"./Data/SENSEX/<SYMBOL>.csv\"\n"
   ]
  },
  {
   "cell_type": "code",
   "execution_count": null,
   "metadata": {
    "collapsed": true
   },
   "outputs": [],
   "source": [
    "def symbol_to_path(symbol, base_dir = \"./Data/SENSEX\"):\n",
    "    \"\"\"Returns\n",
    "     CSV file path for given symbol \"\"\"\n",
    "    return os.path.join(base_dir, \"{}.csv\".format(str(symbol)))\n"
   ]
  },
  {
   "cell_type": "code",
   "execution_count": null,
   "metadata": {
    "collapsed": true
   },
   "outputs": [],
   "source": [
    "def get_data_frame(symbols, dates):\n",
    "\n",
    "    df = pd.DataFrame(index = dates)\n",
    "\n",
    "    #sensex file acts as base;  this is the index file for sensex\n",
    "    if 'SENSEX' not in symbols:\n",
    "        symbols.insert(0, 'SENSEX')\n",
    "\n",
    "    for symbol in  symbols:\n",
    "        df_temp = pd.read_csv(symbol_to_path(symbol),\n",
    "                               index_col = \"Date\", parse_dates = True,\n",
    "                               usecols = ['Date', 'Adj Close'],na_values = ['nan'])\n",
    "\n",
    "        df_temp = df_temp.rename(columns={'Adj Close' : symbol})\n",
    "        if symbol != 'SENSEX':\n",
    "            df = df.join(df_temp)\n",
    "        else:\n",
    "            df = df.join(df_temp, how = 'inner')\n",
    "        \"\"\"\n",
    "            This is important as SENSEX csv file is base for all stocks\n",
    "             we have an entry for this whenever SENSEX trades,\n",
    "             but for any compamy listed on sensex, it may not trade for all\n",
    "             days sensex has worked,, so we take a left join\n",
    "        \"\"\"\n",
    "        #using fillna() to fill missing values\n",
    "        #use ffill first to avoid peeping in future\n",
    "        #bfill is used if data is missing from beginning\n",
    "        df.fillna(method = \"ffill\", inplace = \"TRUE\")\n",
    "        df.fillna(method = \"bfill\", inplace = \"TRUE\")\n",
    "\n",
    "    return df"
   ]
  },
  {
   "cell_type": "code",
   "execution_count": null,
   "metadata": {
    "collapsed": true
   },
   "outputs": [],
   "source": [
    "def normalize_data(df):\n",
    "    #normalize using first row of data\n",
    "    #observe use of row slicing\n",
    "    return df/df.ix[0,:]"
   ]
  },
  {
   "cell_type": "code",
   "execution_count": null,
   "metadata": {
    "collapsed": true
   },
   "outputs": [],
   "source": [
    "def plot_data(df, theTitle = \"Stock Prices\"):\n",
    "    \"\"\"plot stock prices \"\"\"\n",
    "    df = normalize_data(df)\n",
    "    ax = df.plot(title = theTitle)\n",
    "    ax.set_xlabel(\"Date\")\n",
    "    ax.set_ylabel(\"Price\")\n",
    "    #df[['ITC', 'TCS']].plot(title = theTitle)\n",
    "    plt.show()"
   ]
  },
  {
   "cell_type": "code",
   "execution_count": null,
   "metadata": {
    "collapsed": true
   },
   "outputs": [],
   "source": [
    "def compute_stats(df):\n",
    "    print \"the standard deviation is \\n\", df.std()\n",
    "    print \"the mean is\\n\", df.mean()"
   ]
  },
  {
   "cell_type": "code",
   "execution_count": null,
   "metadata": {
    "collapsed": true
   },
   "outputs": [],
   "source": [
    "def compute_bollinger_bands(df, length=30, numsd=2):\n",
    "    \"\"\" returns average, upper band, and lower band\n",
    "        there are three steps , find rolling mean, then rolling std deviation\n",
    "        then find upper and lower bands\n",
    "    \"\"\"\n",
    "    rm = pd.stats.moments.rolling_mean(df,length)\n",
    "    rmstd = pd.stats.moments.rolling_std(df,length)\n",
    "    upperband = rm + (rmstd*numsd)\n",
    "    lowerband = rm - (rmstd*numsd)\n",
    "    #plotting these stats\n",
    "    ax  = df['TCS'].plot(title = \"Bollinger Bands\", label = \"TCS\")\n",
    "    rm.plot(label = \"Rolling mean\", ax = ax)\n",
    "    upperband.plot(label='upper band', ax = ax)\n",
    "    lowerband.plot(label = 'lower band ', ax = ax)\n",
    "    plt.show()"
   ]
  },
  {
   "cell_type": "code",
   "execution_count": null,
   "metadata": {
    "collapsed": true
   },
   "outputs": [],
   "source": [
    "def compute_daily_returns(df):\n",
    "    daily = df.copy()\n",
    "    daily[1:] = (df[1:] / df[:-1].values) - 1\n",
    "    #hey using values only for second is necessary bcoz\n",
    "    # else it will do index wise stuff, so our goal os shifting\n",
    "    #by 1 and dividing is destroyed,\n",
    "    daily.ix[0, :] = 0\n",
    "    print \"the cumulative returns \\n\", daily.sum()"
   ]
  },
  {
   "cell_type": "code",
   "execution_count": null,
   "metadata": {
    "collapsed": true
   },
   "outputs": [],
   "source": [
    "def test_run():\n",
    "\n",
    "    start_date = '2014-01-01'\n",
    "    end_date = '2016-10-07'\n",
    "    dates = pd.date_range(start_date, end_date)\n",
    "    symbols = ['SENSEX', 'TCS', 'ITC']\n",
    "    df = get_data_frame(symbols, dates)\n",
    "    #plot_data(df)\n",
    "\n",
    "    #compute_bollinger_bands(df, 20, 2)\n",
    "    compute_daily_returns(df)"
   ]
  },
  {
   "cell_type": "code",
   "execution_count": 3,
   "metadata": {
    "collapsed": false
   },
   "outputs": [
    {
     "ename": "NameError",
     "evalue": "name 'test_run' is not defined",
     "output_type": "error",
     "traceback": [
      "\u001b[0;31m---------------------------------------------------------------------------\u001b[0m",
      "\u001b[0;31mNameError\u001b[0m                                 Traceback (most recent call last)",
      "\u001b[0;32m<ipython-input-3-65ef9e9fca61>\u001b[0m in \u001b[0;36m<module>\u001b[0;34m()\u001b[0m\n\u001b[1;32m      1\u001b[0m \u001b[0;32mif\u001b[0m \u001b[0m__name__\u001b[0m \u001b[0;34m==\u001b[0m \u001b[0;34m\"__main__\"\u001b[0m\u001b[0;34m:\u001b[0m\u001b[0;34m\u001b[0m\u001b[0m\n\u001b[0;32m----> 2\u001b[0;31m     \u001b[0mtest_run\u001b[0m\u001b[0;34m(\u001b[0m\u001b[0;34m)\u001b[0m\u001b[0;34m\u001b[0m\u001b[0m\n\u001b[0m",
      "\u001b[0;31mNameError\u001b[0m: name 'test_run' is not defined"
     ]
    }
   ],
   "source": [
    "if __name__ == \"__main__\":\n",
    "    test_run()"
   ]
  },
  {
   "cell_type": "code",
   "execution_count": null,
   "metadata": {
    "collapsed": true
   },
   "outputs": [],
   "source": []
  }
 ],
 "metadata": {
  "kernelspec": {
   "display_name": "Python 2",
   "language": "python",
   "name": "python2"
  },
  "language_info": {
   "codemirror_mode": {
    "name": "ipython",
    "version": 2
   },
   "file_extension": ".py",
   "mimetype": "text/x-python",
   "name": "python",
   "nbconvert_exporter": "python",
   "pygments_lexer": "ipython2",
   "version": "2.7.9"
  }
 },
 "nbformat": 4,
 "nbformat_minor": 1
}
