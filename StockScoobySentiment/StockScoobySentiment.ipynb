{
 "cells": [
  {
   "cell_type": "code",
   "execution_count": 16,
   "metadata": {
    "collapsed": false
   },
   "outputs": [],
   "source": [
    "import tweepy\n",
    "from textblob import TextBlob"
   ]
  },
  {
   "cell_type": "code",
   "execution_count": 17,
   "metadata": {
    "collapsed": true
   },
   "outputs": [],
   "source": [
    "consumer_key = 'kx7qJ4S6k55k7LuIv5STN7aWC'\n",
    "consumer_secret = 'J2gimf3xexhSMmqVxRYKH77Gw45fxiojVgQn2fglRE3jfYDGcD'"
   ]
  },
  {
   "cell_type": "code",
   "execution_count": 18,
   "metadata": {
    "collapsed": true
   },
   "outputs": [],
   "source": [
    "access_token = '101709097-NIZ5Jnx3I5WW5qpPTmzU2jyv05vulvPaq8c0FaZD'\n",
    "access_token_secret = 'HT5wd3YJ4TXtMyk8ZXaohxADnZny6ep6gh69NcCLPJv9z'"
   ]
  },
  {
   "cell_type": "code",
   "execution_count": 19,
   "metadata": {
    "collapsed": true
   },
   "outputs": [],
   "source": [
    "auth = tweepy.OAuthHandler(consumer_key, consumer_secret)\n",
    "auth.set_access_token(access_token, access_token_secret)"
   ]
  },
  {
   "cell_type": "code",
   "execution_count": 20,
   "metadata": {
    "collapsed": true
   },
   "outputs": [],
   "source": [
    "api = tweepy.API(auth)"
   ]
  },
  {
   "cell_type": "code",
   "execution_count": 21,
   "metadata": {
    "collapsed": true
   },
   "outputs": [],
   "source": [
    "public_tweets = api.search('Trump')"
   ]
  },
  {
   "cell_type": "code",
   "execution_count": 22,
   "metadata": {
    "collapsed": false
   },
   "outputs": [
    {
     "name": "stdout",
     "output_type": "stream",
     "text": [
      "@bocavista2016 @CNNPolitics Trump had to beat the System am win in a landslide . He did\n",
      "0.8\n",
      "RT @robbysoave: There has been no wave of pro-Trump violence against minorities. Do not buy into hoax reporting https://t.co/DsBxaqpBO4 via…\n",
      "0.0\n",
      "RT @ken_sugar: 「9年半後のことを教えてやろう」\n",
      "「なんだと？」\n",
      "「今そこでレッスルマニア23が開催されているな」\n",
      "「おう」\n",
      "「そこでビンス・マクマホンにラリアット喰らわしてる男。そいつが9年半後のアメリカ大統領だ」\n",
      "「お前は何を言っているんだ」\n",
      "#トランプ #T…\n",
      "0.0\n",
      "RT @wikileaks: The nightmares liberals have over Trump are nothing compared to the dictatorships they forced others to live under https://t…\n",
      "-0.0818181818182\n",
      "RT @DavidJo52951945: Nigel Farage: Donald Trump 'delayed phone call to Theresa May over insults from Tory ministers' https://t.co/C5k4WYQ91I\n",
      "0.0\n",
      "RT @JINCHURIKl: when trump says hes gonna build a wall but you have a trick up your sleeve https://t.co/tdvu1qPqUM\n",
      "0.0\n",
      "RT @MarlowNYC: President-Elect Donald Trump, last 24 hours: https://t.co/hlxlWvRNuP\n",
      "0.0\n",
      "RT @AndreaChalupa: My sister led Trump/Russia research at DNC. US hackers protecting voting systems believe Russia hacked vote tallies http…\n",
      "0.0\n",
      "RT @WillyFoReal: A large group of protesters join the ones on the front line facing Portland PD. Maybe 2,500 present now #portland #protest…\n",
      "0.107142857143\n",
      "RT @Marvelouspapi: bruh lemme find out Trump just finessed the whole united states https://t.co/BX6p3i234u\n",
      "0.2\n",
      "RT @niklasorrenius: Lördagskrönika om Trump, folköl och dammigt halloweengodis. Och om ett så obehagligt skratt att katten reagerade. https…\n",
      "0.0\n",
      "This is how to report Trump/Pence death threats on twitter #REPORT  https://t.co/iDGQGQNLM4 https://t.co/IrFPqVkh1z\n",
      "0.0\n",
      "RT @hartsigns: @GlennThrush @realDonaldTrump fuck trump, he will ruin the country and he's already taking my medicare FUCK NO!!\n",
      "-0.5125\n",
      "We don't have to give Trump a chance stupid Trumpanzee!!  Watching the news.\n",
      "-1.0\n",
      "Trump now says 'Crooked Hillary' is 'very strong and very smart' https://t.co/Kgfbr3SwDh via @bi_politics\n",
      "0.280634920635\n"
     ]
    }
   ],
   "source": [
    "for tweet in public_tweets:\n",
    "    print (tweet.text)\n",
    "    analysis = TextBlob(tweet.text)\n",
    "    print (analysis.sentiment.polarity)"
   ]
  }
 ],
 "metadata": {
  "kernelspec": {
   "display_name": "Python 2",
   "language": "python",
   "name": "python2"
  },
  "language_info": {
   "codemirror_mode": {
    "name": "ipython",
    "version": 2
   },
   "file_extension": ".py",
   "mimetype": "text/x-python",
   "name": "python",
   "nbconvert_exporter": "python",
   "pygments_lexer": "ipython2",
   "version": "2.7.9"
  }
 },
 "nbformat": 4,
 "nbformat_minor": 1
}
