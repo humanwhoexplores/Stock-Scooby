{
 "cells": [
  {
   "cell_type": "code",
   "execution_count": 1,
   "metadata": {
    "collapsed": false
   },
   "outputs": [],
   "source": [
    "import tweepy\n",
    "from textblob import TextBlob"
   ]
  },
  {
   "cell_type": "code",
   "execution_count": 2,
   "metadata": {
    "collapsed": true
   },
   "outputs": [],
   "source": [
    "consumer_key = 'kx7qJ4S6k55k7LuIv5STN7aWC'\n",
    "consumer_secret = 'J2gimf3xexhSMmqVxRYKH77Gw45fxiojVgQn2fglRE3jfYDGcD'"
   ]
  },
  {
   "cell_type": "code",
   "execution_count": 3,
   "metadata": {
    "collapsed": true
   },
   "outputs": [],
   "source": [
    "access_token = '101709097-NIZ5Jnx3I5WW5qpPTmzU2jyv05vulvPaq8c0FaZD'\n",
    "access_token_secret = 'HT5wd3YJ4TXtMyk8ZXaohxADnZny6ep6gh69NcCLPJv9z'"
   ]
  },
  {
   "cell_type": "code",
   "execution_count": 4,
   "metadata": {
    "collapsed": true
   },
   "outputs": [],
   "source": [
    "auth = tweepy.OAuthHandler(consumer_key, consumer_secret)\n",
    "auth.set_access_token(access_token, access_token_secret)"
   ]
  },
  {
   "cell_type": "code",
   "execution_count": 5,
   "metadata": {
    "collapsed": true
   },
   "outputs": [],
   "source": [
    "api = tweepy.API(auth)"
   ]
  },
  {
   "cell_type": "code",
   "execution_count": 6,
   "metadata": {
    "collapsed": true
   },
   "outputs": [],
   "source": [
    "public_tweets = api.search('demonetization')"
   ]
  },
  {
   "cell_type": "code",
   "execution_count": 7,
   "metadata": {
    "collapsed": false,
    "scrolled": true
   },
   "outputs": [
    {
     "name": "stdout",
     "output_type": "stream",
     "text": [
      "The ugly face of India's demonetization: Dozens of deaths https://t.co/Btno3BYpUq https://t.co/lXaS3parAk\n",
      "-0.7\n",
      "RT @FISME: PM @NarendraModi had sought 50 days time from public to get the situation smoother: @KalrajMishra on #DeMonetization https://t.c…\n",
      "0.0\n",
      "RT @Anil_Tulsiram: Please take out a minute and sign this petition showing our support on demonetization...https://t.co/eLatYq0Xjs.. Please…\n",
      "0.0\n",
      "Worth reading and sharing, why demonetization won't stop black money accumulation. \n",
      "\n",
      "It will demobilize the stock... https://t.co/rVwrZxZ5e1\n",
      "0.0666666666667\n",
      "RT @Atheist_Krishna: For me it's the greatest move that i have seen in the history of Indian politics, by far hands down ~ Virat Kohli on D…\n",
      "0.314814814815\n",
      "The ugly face of India's demonetization: Dozens of deaths https://t.co/Y2FFmbv2en\n",
      "-0.7\n",
      "RT @HMOIndiaShadow: BSF jawan's son commits suicide due to lack of notes.\n",
      "\n",
      "Read more at: https://t.co/ng6F8RVniz\n",
      "0.1875\n",
      "RT @HoeZaay: One of the few articles about demonetization in India, that's objective and devoid of jibes &amp; snark. Worth a read. https://t.c…\n",
      "-1.38777878078e-17\n",
      "RT @gauravcsawant: Demonetization is the greatest move in history of Indian politics. Very impressed with purge: Team India skipper @imVkoh…\n",
      "1.0\n",
      "RT @MnshaP: BJP's Jagdambika Pal defending #demonetization on @LokSabhaTV. He has serious corruption allegations against him: https://t.co/…\n",
      "-0.333333333333\n",
      "RT @rssurjewala: Modiji's #Demonetization. Farmers in acute distress-No buyer for produce &amp; no money for Rabi sowing.Anyone listening? http…\n",
      "0.6\n",
      "The ugly face of India's demonetization: Dozens of deaths https://t.co/Dd13JFJjT2\n",
      "-0.7\n",
      "RT @gauravcsawant: Demonetization is the greatest move in history of Indian politics. Very impressed with purge: Team India skipper @imVkoh…\n",
      "1.0\n",
      "बेट लगा लो #RahulGandhi को #Demonetization का means भी नहि पता होगा..... https://t.co/sQHWe5fexU\n",
      "0.0\n",
      "RT @friendscongress: Demonetization decision has unleashed economic anarchy. This is only BJP's decision, not NDA's; We were never consulte…\n",
      "0.1\n"
     ]
    }
   ],
   "source": [
    "for tweet in public_tweets:\n",
    "    print (tweet.text)\n",
    "    analysis = TextBlob(tweet.text)\n",
    "    print (analysis.sentiment.polarity)"
   ]
  },
  {
   "cell_type": "code",
   "execution_count": 8,
   "metadata": {
    "collapsed": true
   },
   "outputs": [],
   "source": [
    "#TCS SENSEX lang:en since:2014-04-01 until:2014-05-20"
   ]
  }
 ],
 "metadata": {
  "kernelspec": {
   "display_name": "Python 2",
   "language": "python",
   "name": "python2"
  },
  "language_info": {
   "codemirror_mode": {
    "name": "ipython",
    "version": 2
   },
   "file_extension": ".py",
   "mimetype": "text/x-python",
   "name": "python",
   "nbconvert_exporter": "python",
   "pygments_lexer": "ipython2",
   "version": "2.7.9"
  }
 },
 "nbformat": 4,
 "nbformat_minor": 1
}
